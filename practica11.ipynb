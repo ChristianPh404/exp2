{
 "cells": [
  {
   "cell_type": "code",
   "execution_count": null,
   "metadata": {},
   "outputs": [],
   "source": [
    "import numpy as np\n",
    "import matplotlib.pyplot as plt\n",
    "import pandas as pd \n",
    "from Ipython.display import display\n",
    "from scipty.stats import \n",
    "from scipy import gmean\n",
    "t1 = np.array([10,20,30.40,50])\n",
    "mi1 = np.array([1.1,1.1,1.1,1.1,1.1]) # g \n",
    "mf1 = np.array([0.9,0.9,0.9,0.9,0.9]) # g\n",
    "n1bola = 6\n",
    "xb = (mi1 - mf1)/mi1\n",
    "f = (1-xb)**(1/3)\n",
    "slope, intercept, r_value, p_value, std_err = linregress(t1,f)\n",
    "\n",
    "plt.plot(t1,f,'o',label= 'experimento 1')\n",
    "plt.plot(t1,intercept + slope*t1, label = 'ajuste')\n",
    "plt.text(10,0.5,'y = {0:.2f}x + {1:.2f}/n r² = {2:.2f}'.format(slope,intercept,r_value**2))\n",
    "plt.xlabel('Tiempo, min')\n",
    "plt.ylabel('f')\n",
    "plt.tittle('t frente a (1-xb)^(1/3)')\n",
    "\n",
    "tau = slope # s \n",
    "tau2 = 1/(1-(1-xb)**(1/3))\n",
    "taumedia = gmean(tau2)\n",
    "error_tau = abs(tau-taumedia)/max(tau,taumedia)\n",
    "densidad = 11.34 # g/cm³\n",
    "Mw = 207.19 # g/mol\n",
    "dpb = (mi1/mw) / (mf1/densidad/1000) # densidad molar del plomo\n",
    "hno3 = 63.01/1.411 # mol/L\n",
    "rp = 1e-3 # m\n",
    "ks = dpb*4*rp/hno3\n",
    "ks_final = gmean(ks)\n",
    "\n",
    "df = pd.DataFrame({'t1':t1,'mi1':mi1,'mf1':mf1,'xb':xb,'f':f,dpb mol/L':dpb,'ks min/m':ks}) \n",
    "display(df)\n",
    "df_resultados = pd.DataFrame({'tau , min':tau,'tau2, min':tau2,'taumedia ,min' :f\"{taumedia:.3f}\",'error_tau':f\"{error_tau:.2%}\",'ks_final, m/min':ks_final})\n",
    "display(df_resultados)\n"
   ]
  }
 ],
 "metadata": {
  "language_info": {
   "name": "python"
  }
 },
 "nbformat": 4,
 "nbformat_minor": 2
}
